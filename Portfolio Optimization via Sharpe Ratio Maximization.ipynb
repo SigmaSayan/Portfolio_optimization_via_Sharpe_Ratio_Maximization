{
 "cells": [
  {
   "cell_type": "markdown",
   "id": "be5afa39-b9bf-49ae-971a-04a9d8f2c546",
   "metadata": {},
   "source": [
    "# Portfolio Optimization"
   ]
  },
  {
   "cell_type": "markdown",
   "id": "760c61a6-4ea4-4301-80ee-30afaf176268",
   "metadata": {},
   "source": [
    "## import required libraries"
   ]
  },
  {
   "cell_type": "code",
   "execution_count": 32,
   "id": "d9e29ea9-c81c-48e9-865b-7347de4c4d58",
   "metadata": {},
   "outputs": [],
   "source": [
    "import yfinance as yf\n",
    "import pandas as pd\n",
    "from datetime import datetime,timedelta\n",
    "import numpy as np\n",
    "from scipy.optimize import minimize"
   ]
  },
  {
   "cell_type": "markdown",
   "id": "5830f9c4-5438-4371-9d50-ab10af88d716",
   "metadata": {},
   "source": [
    "## Define the list of tickers"
   ]
  },
  {
   "cell_type": "code",
   "execution_count": 33,
   "id": "7ef908e8-28f5-4306-a8a1-4c7ed0a46861",
   "metadata": {},
   "outputs": [],
   "source": [
    "tickers=['SPY','BND','GLD','QQQ','VTI']"
   ]
  },
  {
   "cell_type": "markdown",
   "id": "4fce0137-6e3b-4186-8c24-05e781950cf1",
   "metadata": {},
   "source": [
    "## Set the end date to today"
   ]
  },
  {
   "cell_type": "code",
   "execution_count": 34,
   "id": "c3da3aa7-e475-4615-abc3-d800e7f6d408",
   "metadata": {},
   "outputs": [],
   "source": [
    "end_date=datetime.today()"
   ]
  },
  {
   "cell_type": "markdown",
   "id": "bf94058e-5dc5-41d3-b066-a673e5883018",
   "metadata": {},
   "source": [
    "## Set the start date to 10 years ago"
   ]
  },
  {
   "cell_type": "code",
   "execution_count": 35,
   "id": "aa74d8c9-d436-4ac9-945c-c0fb7fa59437",
   "metadata": {},
   "outputs": [],
   "source": [
    "start_date=end_date-timedelta(days=10*365)"
   ]
  },
  {
   "cell_type": "markdown",
   "id": "91da6e09-dfcc-4636-bf2c-6528b0137335",
   "metadata": {},
   "source": [
    "## Create an empty dataframe to store the adjusted close prices"
   ]
  },
  {
   "cell_type": "code",
   "execution_count": 36,
   "id": "283572e4-9e32-410e-b590-acebf683f7bd",
   "metadata": {},
   "outputs": [],
   "source": [
    "adj_close_df=pd.DataFrame()"
   ]
  },
  {
   "cell_type": "markdown",
   "id": "d7175514-0d5b-44c0-80f0-078240cb3005",
   "metadata": {},
   "source": [
    "## Download the closed prices for each ticker"
   ]
  },
  {
   "cell_type": "code",
   "execution_count": 37,
   "id": "938493db-bcc6-4723-8d24-7c40cc3847d4",
   "metadata": {},
   "outputs": [
    {
     "name": "stderr",
     "output_type": "stream",
     "text": [
      "[*********************100%***********************]  1 of 1 completed\n",
      "[*********************100%***********************]  1 of 1 completed\n",
      "[*********************100%***********************]  1 of 1 completed\n",
      "[*********************100%***********************]  1 of 1 completed\n",
      "[*********************100%***********************]  1 of 1 completed\n"
     ]
    }
   ],
   "source": [
    "for ticker in tickers:\n",
    "    data=yf.download(ticker,start=start_date,end=end_date,auto_adjust=True)\n",
    "    adj_close_df[ticker]=data['Close']"
   ]
  },
  {
   "cell_type": "markdown",
   "id": "0e4d9265-9014-4fee-8f2b-a0b64e475a0b",
   "metadata": {},
   "source": [
    "## Display the dataframe"
   ]
  },
  {
   "cell_type": "code",
   "execution_count": 38,
   "id": "0663c5c3-8c9a-4549-9831-48369327e27a",
   "metadata": {},
   "outputs": [
    {
     "name": "stdout",
     "output_type": "stream",
     "text": [
      "                   SPY        BND         GLD         QQQ         VTI\n",
      "Date                                                                 \n",
      "2015-06-24  177.446060  61.310024  112.589996  102.319511   92.609131\n",
      "2015-06-25  176.906525  61.226963  112.440002  102.115288   92.322586\n",
      "2015-06-26  176.872787  61.113693  112.559998  101.437622   92.270073\n",
      "2015-06-29  173.163712  61.423332  113.070000   99.042564   90.340225\n",
      "2015-06-30  173.526230  61.362923  112.370003   99.395302   90.585686\n",
      "...                ...        ...         ...         ...         ...\n",
      "2025-06-13  595.240295  72.699997  316.290009  526.960022  293.570007\n",
      "2025-06-16  600.903564  72.559998  311.779999  534.289978  296.470001\n",
      "2025-06-17  595.768799  72.790001  311.940002  529.080017  294.000000\n",
      "2025-06-18  595.679016  72.830002  310.260010  528.989990  294.109985\n",
      "2025-06-20  594.280029  72.879997  310.130005  526.830017  293.429993\n",
      "\n",
      "[2513 rows x 5 columns]\n"
     ]
    }
   ],
   "source": [
    "print(adj_close_df)"
   ]
  },
  {
   "cell_type": "markdown",
   "id": "d5ab68f1-33aa-4c66-b4c3-7036e6573e02",
   "metadata": {},
   "source": [
    "## Calculate the lognormal returns for each ticker"
   ]
  },
  {
   "cell_type": "code",
   "execution_count": 39,
   "id": "a55057ec-affd-4264-81d8-d2397efaecae",
   "metadata": {},
   "outputs": [],
   "source": [
    "log_returns=np.log(adj_close_df/adj_close_df.shift(1))"
   ]
  },
  {
   "cell_type": "markdown",
   "id": "c6f24472-508e-4ae9-8970-6c36f0ef3307",
   "metadata": {},
   "source": [
    "## Drop any missing values"
   ]
  },
  {
   "cell_type": "code",
   "execution_count": 40,
   "id": "9d2af33d-d4c0-40d7-a5ca-1b40c4fff3f7",
   "metadata": {},
   "outputs": [],
   "source": [
    "log_returns=log_returns.dropna()"
   ]
  },
  {
   "cell_type": "markdown",
   "id": "af7464e2-ccb6-4b2f-83c0-35d1f6b54c58",
   "metadata": {},
   "source": [
    "## Calculate the covariance matrix of the tickers using annualized log returns"
   ]
  },
  {
   "cell_type": "code",
   "execution_count": 41,
   "id": "a64dfb49-f3aa-4bcc-8b48-58f1214ae79c",
   "metadata": {},
   "outputs": [],
   "source": [
    "cov_matrix=log_returns.cov()*252 #252 is multiplied to annualize the logreturns"
   ]
  },
  {
   "cell_type": "code",
   "execution_count": 42,
   "id": "43a09617-d859-4d42-9d4b-3ab73861ef77",
   "metadata": {},
   "outputs": [
    {
     "name": "stdout",
     "output_type": "stream",
     "text": [
      "          SPY       BND       GLD       QQQ       VTI\n",
      "SPY  0.033703  0.001155  0.001217  0.038834  0.034212\n",
      "BND  0.001155  0.003040  0.002744  0.001436  0.001245\n",
      "GLD  0.001217  0.002744  0.020835  0.001803  0.001326\n",
      "QQQ  0.038834  0.001436  0.001803  0.051298  0.039360\n",
      "VTI  0.034212  0.001245  0.001326  0.039360  0.034998\n"
     ]
    }
   ],
   "source": [
    "print(cov_matrix)"
   ]
  },
  {
   "cell_type": "markdown",
   "id": "37899ad0-1135-4c3a-b6da-978c104b5cde",
   "metadata": {},
   "source": [
    "## Calculate the portfolio standard deviation"
   ]
  },
  {
   "cell_type": "code",
   "execution_count": 43,
   "id": "c8c1084b-5833-4d65-8e81-8e5fdf6f9579",
   "metadata": {},
   "outputs": [],
   "source": [
    "def standard_deviation(weights,cov_matrix):\n",
    "    variance=weights.T@cov_matrix@weights\n",
    "    return np.sqrt(variance)"
   ]
  },
  {
   "cell_type": "markdown",
   "id": "77dcee66-4db3-4831-804c-c239faa8aa75",
   "metadata": {},
   "source": [
    "## Calculate the expected returns"
   ]
  },
  {
   "cell_type": "code",
   "execution_count": 44,
   "id": "ea4560bb-5772-4e5e-9a03-c6bc422a7444",
   "metadata": {},
   "outputs": [],
   "source": [
    "def expected_returns(weights,log_returns):\n",
    "    return np.sum(log_returns.mean()*weights)*252"
   ]
  },
  {
   "cell_type": "markdown",
   "id": "3f9ba149-0283-4bc8-ab15-380a54592fb0",
   "metadata": {},
   "source": [
    "## Calculate the Sharpe ratio"
   ]
  },
  {
   "cell_type": "code",
   "execution_count": 45,
   "id": "915d906f-da52-4aab-8b5b-841b25cee01f",
   "metadata": {},
   "outputs": [],
   "source": [
    "def sharpe_ratio(weights,log_returns,cov_matrix,risk_free_rate):\n",
    "    return (expected_returns(weights,log_returns)-risk_free_rate)/standard_deviation(weights,cov_matrix)"
   ]
  },
  {
   "cell_type": "markdown",
   "id": "1cc91f38-4c8e-4322-be1a-d1645d61a775",
   "metadata": {},
   "source": [
    "## Set the risk_free_rate"
   ]
  },
  {
   "cell_type": "code",
   "execution_count": 46,
   "id": "394221fa-cf0b-4a7c-96fb-50dc3384da80",
   "metadata": {},
   "outputs": [],
   "source": [
    "risk_free_rate=0.02 # 2%"
   ]
  },
  {
   "cell_type": "markdown",
   "id": "d0766320-24ff-45c6-b010-c2dea9d49e42",
   "metadata": {},
   "source": [
    "## Define the function to minimize(-ve Sharpe ratio)"
   ]
  },
  {
   "cell_type": "code",
   "execution_count": 47,
   "id": "d0696372-9e8a-4b53-ac33-201ca03230de",
   "metadata": {},
   "outputs": [],
   "source": [
    "def neg_sharpe_ratio(weights,log_returns,cov_matrix,risk_free_rate):\n",
    "    return -sharpe_ratio(weights,log_returns,cov_matrix,risk_free_rate)"
   ]
  },
  {
   "cell_type": "markdown",
   "id": "4dc59343-fbf6-4493-8a28-6ee7450e190a",
   "metadata": {},
   "source": [
    "## Set the constraints and the bounds"
   ]
  },
  {
   "cell_type": "code",
   "execution_count": 48,
   "id": "119c4682-e2b3-45c7-98a0-decbff51a952",
   "metadata": {},
   "outputs": [],
   "source": [
    "constraints={'type' : 'eq' , 'fun' : lambda weights: np.sum(weights)-1} # sum of the weights=1\n",
    "bounds=[(0,0.45) for _ in range(len(tickers))] # lower bound is 0 which implies that we cant short it and the upper bound is 0.5 which means that the maximum weight we can assign to a ticker is 0.5(50%)"
   ]
  },
  {
   "cell_type": "markdown",
   "id": "b210cff1-7f7b-4148-af54-63279583ecf0",
   "metadata": {},
   "source": [
    "## Set the initial weights"
   ]
  },
  {
   "cell_type": "code",
   "execution_count": 49,
   "id": "7dea45fb-552f-4d80-b0d3-f883228bd4b8",
   "metadata": {},
   "outputs": [],
   "source": [
    "initial_weights=np.array([1/len(tickers)]*len(tickers))"
   ]
  },
  {
   "cell_type": "code",
   "execution_count": 50,
   "id": "32209ff4-7f6a-4009-8394-731e8b7f5496",
   "metadata": {},
   "outputs": [
    {
     "name": "stdout",
     "output_type": "stream",
     "text": [
      "[0.2 0.2 0.2 0.2 0.2]\n"
     ]
    }
   ],
   "source": [
    "print(initial_weights)"
   ]
  },
  {
   "cell_type": "markdown",
   "id": "076da78d-1511-432a-bd55-438ea954d633",
   "metadata": {},
   "source": [
    "## Optimize the weights to maximize the sharpe ratio"
   ]
  },
  {
   "cell_type": "code",
   "execution_count": 51,
   "id": "3b3428ad-62c8-427f-93e9-b8da49985858",
   "metadata": {},
   "outputs": [],
   "source": [
    "optimized_results=minimize(neg_sharpe_ratio,x0=initial_weights,args=(log_returns,cov_matrix,risk_free_rate),method='SLSQP',constraints=constraints,bounds=bounds)#Sequential Least Squares Quadratic Programming used for optimizing the weights "
   ]
  },
  {
   "cell_type": "markdown",
   "id": "edd7b213-0d50-4c58-b9a8-f9995fb114f9",
   "metadata": {},
   "source": [
    "## Get the optimal weights"
   ]
  },
  {
   "cell_type": "code",
   "execution_count": 52,
   "id": "249c2888-767c-4fa2-9ba3-72dfd399d7e4",
   "metadata": {},
   "outputs": [],
   "source": [
    "optimal_weights=optimized_results.x"
   ]
  },
  {
   "cell_type": "markdown",
   "id": "87c489c5-d7c1-4e54-9bf8-5f343640afd9",
   "metadata": {},
   "source": [
    "## Display the analytics of the optimal portfolio"
   ]
  },
  {
   "cell_type": "code",
   "execution_count": 53,
   "id": "1bc184a4-0ed1-438e-a1ca-3e04776c237e",
   "metadata": {},
   "outputs": [
    {
     "name": "stdout",
     "output_type": "stream",
     "text": [
      "Optimal Weights:\n",
      "SPY: 0.0097\n",
      "BND: 0.0903\n",
      "GLD: 0.4500\n",
      "QQQ: 0.4500\n",
      "VTI: 0.0000\n",
      "Expected Annual Returns: 0.1225\n",
      "Expected Volatility: 0.1267\n",
      "Sharpe Ratio: 0.8086\n"
     ]
    }
   ],
   "source": [
    "print(\"Optimal Weights:\")\n",
    "for ticker, weight in zip(tickers, optimal_weights):\n",
    "    print(f\"{ticker}: {weight:.4f}\")\n",
    "\n",
    "optimal_portfolio_return = expected_returns(optimal_weights, log_returns)\n",
    "optimal_portfolio_volatility = standard_deviation(optimal_weights, cov_matrix)\n",
    "optimal_sharpe_ratio = sharpe_ratio(optimal_weights, log_returns, cov_matrix, risk_free_rate)\n",
    "\n",
    "print(f\"Expected Annual Returns: {optimal_portfolio_return:.4f}\")\n",
    "print(f\"Expected Volatility: {optimal_portfolio_volatility:.4f}\")\n",
    "print(f\"Sharpe Ratio: {optimal_sharpe_ratio:.4f}\")"
   ]
  },
  {
   "cell_type": "markdown",
   "id": "7031a70e-8dfc-4a55-b76a-bf2c0441099f",
   "metadata": {},
   "source": [
    "## Display the final portfolio in a plot"
   ]
  },
  {
   "cell_type": "code",
   "execution_count": 54,
   "id": "b54cd2c6-fc0a-4c79-b3c9-70d9dc39216c",
   "metadata": {},
   "outputs": [
    {
     "data": {
      "image/png": "[encoded data removed]",
      "text/plain": [
       "<Figure size 1000x600 with 1 Axes>"
      ]
     },
     "metadata": {},
     "output_type": "display_data"
    }
   ],
   "source": [
    "import matplotlib.pyplot as plt\n",
    "\n",
    "plt.figure(figsize=(10, 6))\n",
    "plt.bar(tickers, optimal_weights)\n",
    "\n",
    "plt.xlabel('Assets')\n",
    "plt.ylabel('Optimal Weights')\n",
    "plt.title('Optimal Portfolio Weights')\n",
    "\n",
    "plt.show()"
   ]
  },
  {
   "cell_type": "code",
   "execution_count": null,
   "id": "b1246a9f-7539-47e2-b466-0e30b8ad8820",
   "metadata": {},
   "outputs": [],
   "source": []
  }
 ],
 "metadata": {
  "kernelspec": {
   "display_name": "Python 3 (ipykernel)",
   "language": "python",
   "name": "python3"
  },
  "language_info": {
   "codemirror_mode": {
    "name": "ipython",
    "version": 3
   },
   "file_extension": ".py",
   "mimetype": "text/x-python",
   "name": "python",
   "nbconvert_exporter": "python",
   "pygments_lexer": "ipython3",
   "version": "3.11.5"
  }
 },
 "nbformat": 4,
 "nbformat_minor": 5
}
